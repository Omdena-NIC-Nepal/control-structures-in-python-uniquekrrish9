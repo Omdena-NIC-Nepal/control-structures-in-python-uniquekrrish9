{
 "cells": [
  {
   "cell_type": "code",
   "execution_count": 2,
   "metadata": {},
   "outputs": [],
   "source": [
    "def while_loop():\n",
    "    number = 0\n",
    "    while number <= 20:\n",
    "        if number % 2 == 0:\n",
    "            print(number)\n",
    "        if number == 16:\n",
    "            break\n",
    "        number += 1\n",
    "\n"
   ]
  },
  {
   "cell_type": "code",
   "execution_count": 3,
   "metadata": {},
   "outputs": [],
   "source": [
    "# Task 2: For loop with continue\n",
    "def for_loop_continue():\n",
    "    for num in range(1, 16):\n",
    "        if num % 3 == 0:\n",
    "            continue\n",
    "        print(num)\n"
   ]
  },
  {
   "cell_type": "code",
   "execution_count": 4,
   "metadata": {},
   "outputs": [],
   "source": [
    "# Task 3: if-else statement\n",
    "\n",
    "import sys\n",
    "def number_classification():\n",
    "    try:\n",
    "        n = int(sys.stdin.readline().strip())  # Use readline() instead of read()\n",
    "    except ValueError:\n",
    "        n = 0  # Default value if no input is provided\n",
    "    \n",
    "    if n < 0:\n",
    "        print(\"negative\")\n",
    "    elif n == 0:\n",
    "        print(\"zero\")\n",
    "    else:\n",
    "        print(\"positive\")"
   ]
  },
  {
   "cell_type": "code",
   "execution_count": 5,
   "metadata": {},
   "outputs": [],
   "source": [
    "# Task 4: Nested loops\n",
    "def multiplication_table():\n",
    "    for i in range(1, 6):\n",
    "        for j in range(1, 6):\n",
    "            print(f\"{i} x {j} = {i * j}\")"
   ]
  },
  {
   "cell_type": "code",
   "execution_count": null,
   "metadata": {},
   "outputs": [],
   "source": []
  }
 ],
 "metadata": {
  "kernelspec": {
   "display_name": "base",
   "language": "python",
   "name": "python3"
  },
  "language_info": {
   "codemirror_mode": {
    "name": "ipython",
    "version": 3
   },
   "file_extension": ".py",
   "mimetype": "text/x-python",
   "name": "python",
   "nbconvert_exporter": "python",
   "pygments_lexer": "ipython3",
   "version": "3.11.5"
  }
 },
 "nbformat": 4,
 "nbformat_minor": 2
}
